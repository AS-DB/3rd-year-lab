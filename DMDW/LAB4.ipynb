{
 "cells": [
  {
   "cell_type": "markdown",
   "metadata": {},
   "source": [
    "1. Find the proximity measure for the given data.\n",
    "\n",
    "id:1,2,3,4,5\n",
    "Hobby:reading,playing,reading,playing,playing\n",
    "Job:yes,yes,no,no,yes"
   ]
  },
  {
   "cell_type": "code",
   "execution_count": 78,
   "metadata": {},
   "outputs": [
    {
     "name": "stdout",
     "output_type": "stream",
     "text": [
      "0 0.75 0.75 0.75 0.75 \n",
      "0.75 0 0.75 0.75 0.75 \n",
      "0.75 0.75 0 0.75 0.75 \n",
      "0.75 0.75 0.75 0 0.75 \n",
      "0.75 0.75 0.75 0.75 0 \n"
     ]
    }
   ],
   "source": [
    "\n",
    "Hobby=[\"reading\",\"playing\",\"reading\",\"playing\",\"playing\"]\n",
    "age=[\"yes\",\"yes\",\"no\",\"no\",\"yes\"]\n",
    "#replacing the value \n",
    "Hobby=[\"reading\",\"playing\",\"reading\",\"playing\",\"playing\"]\n",
    "for i in range(len(Hobby)):\n",
    "    if Hobby[i]==\"reading\":\n",
    "        Hobby[i]=1\n",
    "    else:\n",
    "        Hobby[i]=0\n",
    "        \n",
    "for i in range(len(age)):\n",
    "    if age[i]==\"yes\":\n",
    "        age[i]=1\n",
    "    else:\n",
    "        age[i]=0\n",
    "\n",
    "#Assigning\n",
    "a1=list(map(str,Hobby))\n",
    "a2=list(map(str,age))\n",
    "d=list(map(lambda x,y:x+y,a1,a2))\n",
    "\n",
    "#counting the occurence \n",
    "count1=0;count2=0;count3=0\n",
    "for val in d:\n",
    "    if val==\"10\":\n",
    "        count1=count1+1\n",
    "    elif val==\"01\":\n",
    "        count2=count2+1\n",
    "    elif val==\"11\":\n",
    "        count3=count3+1\n",
    "    else:\n",
    "        continue\n",
    "\n",
    "measuring=(count1+count2)/(count1+count2+count3)\n",
    "\n",
    "#print matrix\n",
    "for i in range(len(Hobby)):\n",
    "    for j in range(len(age)):\n",
    "        if(i==j):\n",
    "            print(0,end=\" \")\n",
    "        else:\n",
    "            print(measuring,end=\" \")\n",
    "    print()"
   ]
  },
  {
   "cell_type": "markdown",
   "metadata": {},
   "source": [
    "2.Find the dissimilarity matrix for the given data.\n",
    "\n",
    "id:1,2,3,4,5\n",
    "age:20,23,25,30,35\n",
    "income:10000,26000,30000,45000,56000"
   ]
  }
 ],
 "metadata": {
  "kernelspec": {
   "display_name": "base",
   "language": "python",
   "name": "python3"
  },
  "language_info": {
   "codemirror_mode": {
    "name": "ipython",
    "version": 3
   },
   "file_extension": ".py",
   "mimetype": "text/x-python",
   "name": "python",
   "nbconvert_exporter": "python",
   "pygments_lexer": "ipython3",
   "version": "3.11.3"
  }
 },
 "nbformat": 4,
 "nbformat_minor": 2
}
