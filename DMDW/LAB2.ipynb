{
 "cells": [
  {
   "cell_type": "markdown",
   "metadata": {},
   "source": [
    "LAB 2:-\n",
    "\n",
    "WAP to print mean,mode,meadian,SD and varience using and without using library function.\n",
    "\n",
    "csv file data given by mam named as LAB2.csv\n",
    "\n",
    "plot it using matplot"
   ]
  },
  {
   "cell_type": "markdown",
   "metadata": {},
   "source": [
    "Using Inbuilt function"
   ]
  },
  {
   "cell_type": "code",
   "execution_count": 55,
   "metadata": {},
   "outputs": [
    {
     "name": "stdout",
     "output_type": "stream",
     "text": [
      "Mean of salary is: 26500\n",
      "Median of salary is:27500.0\n",
      "Mode of salary is:33000\n",
      "Standard deviation:6534.523701081816\n",
      "Varience:42700000\n"
     ]
    }
   ],
   "source": [
    "import statistics as st\n",
    "import pandas as pd\n",
    "\n",
    "data_reader=pd.read_csv('LAB2.csv')\n",
    "#using function\n",
    "print(\"Mean of salary is:\",st.mean(data_reader['Income']))\n",
    "print(f'Median of salary is:{st.median(data_reader['Income'])}')\n",
    "print(f'Mode of salary is:{st.mode(data_reader['Income'])}')\n",
    "print(f\"Standard deviation:{st.stdev(data_reader['Income'])}\")\n",
    "print(f'Varience:{st.variance(data_reader['Income'])}')"
   ]
  },
  {
   "cell_type": "markdown",
   "metadata": {},
   "source": [
    "Without using function"
   ]
  },
  {
   "cell_type": "code",
   "execution_count": 41,
   "metadata": {},
   "outputs": [
    {
     "name": "stdout",
     "output_type": "stream",
     "text": [
      "Mean of Income:26500.0\n",
      "Medium of Income is:31500.0\n",
      "Mode of Income: 33000\n"
     ]
    }
   ],
   "source": [
    "import pandas as pd\n",
    "data_reader=pd.read_csv('LAB2.csv')\n",
    "\n",
    "#mean    \n",
    "a=[]\n",
    "count=0\n",
    "for i in data_reader['Income']:\n",
    "    a.append(i)\n",
    "for i in a:\n",
    "    count=count+i\n",
    "mean=count/len(a)\n",
    "print(f\"Mean of Income:{mean}\")\n",
    "\n",
    "#median\n",
    "if len(a)%2==0:\n",
    "    n1=len(a)//2\n",
    "    n2=(len(a)//2)+1\n",
    "    mediam=(a[n1]+a[n2])/2\n",
    "    print(f\"Medium of Income is:{mediam}\")\n",
    "else:\n",
    "    m=len(a)//2\n",
    "    print(f\"Medium of Income is:{a[m]}\")\n",
    "\n",
    "#mode \n",
    "import random as rd\n",
    "dict1={}\n",
    "for i in a:\n",
    "    if i in dict1:\n",
    "        dict1[i]=dict1[i]+1\n",
    "    else:\n",
    "        dict1[i]=1\n",
    "\n",
    "f=max(dict1.values())\n",
    "f1= [key for key,value in dict1.items() if value==f]\n",
    "\n",
    "if len(f1)==1:\n",
    "    mode=f1[0]\n",
    "    print(f\"Mode of Income: {mode}\")\n",
    "else:\n",
    "    mode=rd.choice(f1)\n",
    "    print(f\"Mode of Income:{mode}\")"
   ]
  },
  {
   "cell_type": "code",
   "execution_count": null,
   "metadata": {},
   "outputs": [],
   "source": [
    "import pandas as pd\n",
    "\n",
    "data_reader=pd.read_csv('LAB2.csv')\n",
    "\n",
    "#varience\n",
    "c=[]\n",
    "count1=0\n",
    "for i in a:\n",
    "    element=(i-mean)**2\n",
    "    c.append(element)\n",
    "for i in c:\n",
    "    count1=count1+i\n",
    "\n",
    "varience=count1/len(a)\n",
    "print(f\"Variance of Income is:{varience}\")\n",
    "\n",
    "#stanndard deviation\n",
    "Standard_deviation=(varience)**(1/2)\n",
    "print(f\"Standard Divation of Income is:{Standard_deviation}\")\n"
   ]
  },
  {
   "cell_type": "markdown",
   "metadata": {},
   "source": [
    "Plot the Salary and age graph"
   ]
  },
  {
   "cell_type": "code",
   "execution_count": null,
   "metadata": {},
   "outputs": [],
   "source": [
    "import matplotlib.pyplot as pt\n",
    "import pandas as pd\n",
    "import numpy as np\n",
    "\n",
    "data=pd.read_csv('LAB2.csv')\n",
    "a=np.array(data['age'])\n",
    "b=np.array(data['Income'])\n",
    "pt.xlabel('Income')\n",
    "pt.ylabel('Age')\n",
    "pt.title('Graph of Age and Salary')\n",
    "pt.plot(b,a)\n",
    "pt.show()"
   ]
  }
 ],
 "metadata": {
  "kernelspec": {
   "display_name": "Python 3",
   "language": "python",
   "name": "python3"
  },
  "language_info": {
   "codemirror_mode": {
    "name": "ipython",
    "version": 3
   },
   "file_extension": ".py",
   "mimetype": "text/x-python",
   "name": "python",
   "nbconvert_exporter": "python",
   "pygments_lexer": "ipython3",
   "version": "3.12.4"
  }
 },
 "nbformat": 4,
 "nbformat_minor": 2
}
