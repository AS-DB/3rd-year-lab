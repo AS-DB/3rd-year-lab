{
 "cells": [
  {
   "cell_type": "markdown",
   "metadata": {},
   "source": [
    "Assignment 6"
   ]
  },
  {
   "cell_type": "markdown",
   "metadata": {},
   "source": [
    "1.Find the cosine similarity between age and salary:-\n",
    "age:- 20,23,45,38,50,67,52,25\n",
    "salary:25000,23000,56000,47000,75000,87000,63000,34600"
   ]
  },
  {
   "cell_type": "code",
   "execution_count": 42,
   "metadata": {},
   "outputs": [
    {
     "name": "stdout",
     "output_type": "stream",
     "text": [
      "Cosine similarity between age and salary is: 0.9962557448286664\n"
     ]
    }
   ],
   "source": [
    "xi=[20,23,45,38,50,67,52,25]\n",
    "yi=[25000,23000,56000,47000,75000,87000,63000,34600]\n",
    "\n",
    "c=list(map(lambda x,y:x*y,xi,yi))\n",
    "\n",
    "count1=0\n",
    "for i in c:\n",
    "    count1=count1+i\n",
    "\n",
    "count2=0;count3=0\n",
    "for i in xi:\n",
    "    count2+=i**2\n",
    "count2=count2**0.5\n",
    "\n",
    "for i in yi:\n",
    "    count3+=i**2\n",
    "count3=count3**0.5\n",
    "\n",
    "final=count1/(count2*count3)\n",
    "print(f\"Cosine similarity between age and salary is: {final}\")"
   ]
  },
  {
   "cell_type": "markdown",
   "metadata": {},
   "source": [
    "2.Is gender independent of education level? A random sample of 395 people was surveyed and each person was asked to report the highest education level they obtained.The data that resulted from the survey are summarized in the following table:-\n",
    "\n",
    "            High_school     Bachelors       Masters     Phd     Total\n",
    "            ___________________________________________________________\n",
    "    Female      60              54              46      41      201\n",
    "    Male        40              44              53      57      194\n",
    "    Total       100             98              99      98      395"
   ]
  },
  {
   "cell_type": "code",
   "execution_count": 43,
   "metadata": {},
   "outputs": [],
   "source": [
    "Female=[60,54,46,41]\n",
    "Male=[40,44,53,57]\n",
    "grand_total=395\n",
    "\n",
    "#row sum\n",
    "c1,c2=0,0\n",
    "for i in Female:\n",
    "    c1+=i\n",
    "for i in Male:\n",
    "    c2+=i\n",
    "#Expectation value\n",
    "f_High_school=((Female[0]+Male[0])*c1)/grand_total"
   ]
  }
 ],
 "metadata": {
  "kernelspec": {
   "display_name": "base",
   "language": "python",
   "name": "python3"
  },
  "language_info": {
   "codemirror_mode": {
    "name": "ipython",
    "version": 3
   },
   "file_extension": ".py",
   "mimetype": "text/x-python",
   "name": "python",
   "nbconvert_exporter": "python",
   "pygments_lexer": "ipython3",
   "version": "3.11.3"
  }
 },
 "nbformat": 4,
 "nbformat_minor": 2
}
