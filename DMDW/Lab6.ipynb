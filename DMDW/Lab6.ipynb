{
 "cells": [
  {
   "cell_type": "markdown",
   "metadata": {},
   "source": [
    "Assignment 6"
   ]
  },
  {
   "cell_type": "markdown",
   "metadata": {},
   "source": [
    "1.Find the cosine similarity between age and salary:-\n",
    "age:- 20,23,45,38,50,67,52,25\n",
    "salary:25000,23000,56000,47000,75000,87000,63000,34600"
   ]
  },
  {
   "cell_type": "code",
   "execution_count": 5,
   "metadata": {},
   "outputs": [
    {
     "name": "stdout",
     "output_type": "stream",
     "text": [
      "Cosine similarity between age and salary is: 0.996\n"
     ]
    }
   ],
   "source": [
    "xi=[20,23,45,38,50,67,52,25]\n",
    "yi=[25000,23000,56000,47000,75000,87000,63000,34600]\n",
    "\n",
    "c=list(map(lambda x,y:x*y,xi,yi))\n",
    "\n",
    "count1=0\n",
    "for i in c:\n",
    "    count1=count1+i\n",
    "\n",
    "count2=0;count3=0\n",
    "for i in xi:\n",
    "    count2+=i**2\n",
    "count2=count2**0.5\n",
    "\n",
    "for i in yi:\n",
    "    count3+=i**2\n",
    "count3=count3**0.5\n",
    "\n",
    "final=count1/(count2*count3)\n",
    "print(f\"Cosine similarity between age and salary is: {final:.3}\")"
   ]
  },
  {
   "cell_type": "markdown",
   "metadata": {},
   "source": [
    "2.Is gender independent of education level? A random sample of 395 people was surveyed and each person was asked to report the highest education level they obtained.The data that resulted from the survey are summarized in the following table:-\n",
    "\n",
    "            High_school     Bachelors       Masters     Phd     Total\n",
    "            ___________________________________________________________\n",
    "    Female      60              54              46      41      201\n",
    "    Male        40              44              53      57      194\n",
    "    Total       100             98              99      98      395"
   ]
  },
  {
   "cell_type": "code",
   "execution_count": 13,
   "metadata": {},
   "outputs": [
    {
     "name": "stdout",
     "output_type": "stream",
     "text": [
      "No gender is not independent of education level\n"
     ]
    }
   ],
   "source": [
    "Female=[60,54,46,41]\n",
    "Male=[40,44,53,57]\n",
    "grand_total=395\n",
    "\n",
    "#expected value counting\n",
    "fe=[];me=[]\n",
    "\n",
    "for i in range(len(Female)):\n",
    "    c=((Female[i]+Male[i])*sum(Female))/grand_total\n",
    "    fe.append(round(c,2))\n",
    "\n",
    "for i in range(len(Female)):\n",
    "    c=((Female[i]+Male[i])*sum(Male))/grand_total\n",
    "    me.append(round(c,2))\n",
    "\n",
    "#chi-square\n",
    "ob_ex=[]\n",
    "for i in range(len(Female)):\n",
    "    c=((Female[i]-fe[i])**2)/fe[i]\n",
    "    ob_ex.append(round(c,2))\n",
    "\n",
    "for i in range(len(Male)):\n",
    "    c=((Male[i]-me[i])**2)/fe[i]\n",
    "    ob_ex.append(round(c,2))\n",
    "\n",
    "t=sum(ob_ex)\n",
    "\n",
    "#degree of freedom\n",
    "freedom=3               #(len(Female)-1)*(2-1) directly doing this cause don't know the logic for two row count and using female dataset column can be count \n",
    "significant_value=7.815 #directly we can refer to chi square value tabel or write code for it \n",
    "\n",
    "#final output\n",
    "if t<=significant_value:\n",
    "    print(\"Yes gender is indepent of education level\")\n",
    "else:\n",
    "    print(\"No gender is not independent of education level\")"
   ]
  }
 ],
 "metadata": {
  "kernelspec": {
   "display_name": "base",
   "language": "python",
   "name": "python3"
  },
  "language_info": {
   "codemirror_mode": {
    "name": "ipython",
    "version": 3
   },
   "file_extension": ".py",
   "mimetype": "text/x-python",
   "name": "python",
   "nbconvert_exporter": "python",
   "pygments_lexer": "ipython3",
   "version": "3.12.5"
  }
 },
 "nbformat": 4,
 "nbformat_minor": 2
}
