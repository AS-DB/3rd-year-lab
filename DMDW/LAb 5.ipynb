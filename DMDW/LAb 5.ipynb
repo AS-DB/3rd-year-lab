{
 "cells": [
  {
   "cell_type": "markdown",
   "metadata": {},
   "source": [
    "Assignment 5:-\n",
    "\n",
    "1.Find the dissimilarty trix for the following data.\n",
    "\n",
    "id:-1,2,3,4,5\n",
    "Color:red,green,blue,red,green\n",
    "grade:A,B,A,C,C\n",
    "age:30,18,45,63,35\n",
    "occupation:yes,no,yes,no,yes"
   ]
  }
 ],
 "metadata": {
  "kernelspec": {
   "display_name": "Python 3",
   "language": "python",
   "name": "python3"
  },
  "language_info": {
   "name": "python",
   "version": "3.12.4"
  }
 },
 "nbformat": 4,
 "nbformat_minor": 2
}
