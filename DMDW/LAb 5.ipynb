{
 "cells": [
  {
   "cell_type": "markdown",
   "metadata": {},
   "source": [
    "Assignment 5:-\n",
    "\n",
    "1.Find the dissimilarty matrix for the following data.\n",
    "\n",
    "id:-1,2,3,4,5\n",
    "Color:red,green,blue,red,green\n",
    "grade:A,B,A,C,C\n",
    "age:30,18,45,63,35\n",
    "occupation:yes,no,yes,no,yes"
   ]
  },
  {
   "cell_type": "code",
   "execution_count": 20,
   "metadata": {},
   "outputs": [
    {
     "name": "stdout",
     "output_type": "stream",
     "text": [
      "[0.5, 0.0, 0.5, 0.5, 0.5]\n",
      "7.0710678118654755\n",
      "13.0\n",
      "27.459060435491963\n",
      "18.681541692269406\n",
      "28.442925306655784\n",
      "13.0\n",
      "16.97056274847714\n",
      "29.546573405388315\n",
      "21.633307652783937\n",
      "30.463092423455635\n",
      "27.459060435491963\n",
      "29.546573405388315\n",
      "38.18376618407357\n",
      "32.449961479175904\n",
      "38.897300677553446\n",
      "18.681541692269406\n",
      "21.633307652783937\n",
      "32.449961479175904\n",
      "25.45584412271571\n",
      "33.28663395418648\n",
      "28.442925306655784\n",
      "30.463092423455635\n",
      "38.897300677553446\n",
      "33.28663395418648\n",
      "39.59797974644666\n"
     ]
    }
   ],
   "source": [
    "occupation=[\"yes\",\"no\",\"yes\",\"no\",\"yes\"]\n",
    "grade=[\"A\",\"B\",\"A\",\"C\",\"C\"]\n",
    "age=[30,18,45,63,35]\n",
    "#ocupation\n",
    "a=[]\n",
    "for i in occupation:\n",
    "    if i==\"yes\":\n",
    "        a.append(1)\n",
    "    else:\n",
    "        a.append(0)\n",
    "\n",
    "#matrix code\n",
    "\n",
    "#grade\n",
    "b=[]\n",
    "\n",
    "#ranking grade\n",
    "for i in grade:\n",
    "    if i==\"A\":\n",
    "        b.append(1)\n",
    "    elif i==\"B\":\n",
    "        b.append(2)\n",
    "    else:\n",
    "        b.append(3)\n",
    "\n",
    "grade_count=len(set(b))\n",
    "\n",
    "A=(b.count(1)-1)/(grade_count-1)\n",
    "B=(b.count(2)-1)/(grade_count-1)\n",
    "C=(b.count(3)-1)/(grade_count-1)\n",
    "\n",
    "for i in b:\n",
    "    if i==1:\n",
    "        c=b.index(i)\n",
    "        b.pop(c)\n",
    "        b.insert(c,A)\n",
    "    elif i==2:\n",
    "        c=b.index(i)\n",
    "        b.pop(c)\n",
    "        b.insert(c,B)\n",
    "    else:\n",
    "        c=b.index(i)\n",
    "        b.pop(c)\n",
    "        b.insert(c,C)\n",
    "print(b)\n",
    "#matrix code\n",
    "\n",
    "#age\n",
    "'''\n",
    "for i in range(len(age)):\n",
    "        for j in range(len(age)):\n",
    "            k=((age[i]-age[i-1])**2 + (age[j]-age[j-1])**2)**(1/2)\n",
    "            print(k)\n",
    "'''"
   ]
  }
 ],
 "metadata": {
  "kernelspec": {
   "display_name": "Python 3",
   "language": "python",
   "name": "python3"
  },
  "language_info": {
   "codemirror_mode": {
    "name": "ipython",
    "version": 3
   },
   "file_extension": ".py",
   "mimetype": "text/x-python",
   "name": "python",
   "nbconvert_exporter": "python",
   "pygments_lexer": "ipython3",
   "version": "3.12.4"
  }
 },
 "nbformat": 4,
 "nbformat_minor": 2
}
