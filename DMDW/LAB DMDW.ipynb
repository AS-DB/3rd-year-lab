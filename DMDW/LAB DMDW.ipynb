{
 "cells": [
  {
   "cell_type": "markdown",
   "metadata": {},
   "source": [
    "LAB 01"
   ]
  },
  {
   "cell_type": "markdown",
   "metadata": {},
   "source": [
    "1.WAP to print first record from dataset.\n",
    "2.WAP to display first attribute of the dataset.\n",
    "3.Print all attributes of the loaded dataset.\n",
    "4.calculate the average of a numeric column.\n",
    "5.Add a column called age and salary to the existing dataset.\n",
    "6.Split the csv file into two sub csv files.\n",
    "7.filter salary column using salary>20000 condition\n",
    "8.sort the data using salary column"
   ]
  },
  {
   "cell_type": "code",
   "execution_count": 21,
   "metadata": {},
   "outputs": [],
   "source": [
    "import pandas as pd\n",
    "import statistics as st"
   ]
  },
  {
   "cell_type": "code",
   "execution_count": 22,
   "metadata": {},
   "outputs": [
    {
     "data": {
      "text/html": [
       "<div>\n",
       "<style scoped>\n",
       "    .dataframe tbody tr th:only-of-type {\n",
       "        vertical-align: middle;\n",
       "    }\n",
       "\n",
       "    .dataframe tbody tr th {\n",
       "        vertical-align: top;\n",
       "    }\n",
       "\n",
       "    .dataframe thead th {\n",
       "        text-align: right;\n",
       "    }\n",
       "</style>\n",
       "<table border=\"1\" class=\"dataframe\">\n",
       "  <thead>\n",
       "    <tr style=\"text-align: right;\">\n",
       "      <th></th>\n",
       "      <th>Name</th>\n",
       "      <th>ROll_number</th>\n",
       "      <th>DMDW_MARKS</th>\n",
       "      <th>FLAT_MARKS</th>\n",
       "      <th>CN_MaRKS</th>\n",
       "    </tr>\n",
       "  </thead>\n",
       "  <tbody>\n",
       "    <tr>\n",
       "      <th>0</th>\n",
       "      <td>ADITYA DAS</td>\n",
       "      <td>1</td>\n",
       "      <td>25</td>\n",
       "      <td>25</td>\n",
       "      <td>24</td>\n",
       "    </tr>\n",
       "  </tbody>\n",
       "</table>\n",
       "</div>"
      ],
      "text/plain": [
       "         Name  ROll_number  DMDW_MARKS  FLAT_MARKS  CN_MaRKS\n",
       "0  ADITYA DAS            1          25          25        24"
      ]
     },
     "execution_count": 22,
     "metadata": {},
     "output_type": "execute_result"
    }
   ],
   "source": [
    "#1\n",
    "data_reader=pd.read_csv(\"student_details.csv\")\n",
    "data_reader.head(1)"
   ]
  },
  {
   "cell_type": "code",
   "execution_count": 23,
   "metadata": {},
   "outputs": [
    {
     "data": {
      "text/plain": [
       "'Name'"
      ]
     },
     "execution_count": 23,
     "metadata": {},
     "output_type": "execute_result"
    }
   ],
   "source": [
    "#2\n",
    "data_reader.columns[0]"
   ]
  },
  {
   "cell_type": "code",
   "execution_count": 24,
   "metadata": {},
   "outputs": [
    {
     "name": "stdout",
     "output_type": "stream",
     "text": [
      "Name\tROll_number\tDMDW_MARKS\tFLAT_MARKS\tCN_MaRKS\t"
     ]
    }
   ],
   "source": [
    "#3\n",
    "for i in data_reader.columns:\n",
    "    print(i,end=\"\\t\",sep=\",\")"
   ]
  },
  {
   "cell_type": "code",
   "execution_count": 25,
   "metadata": {},
   "outputs": [
    {
     "name": "stdout",
     "output_type": "stream",
     "text": [
      "mean of DMDW marks is:\t25.25\n"
     ]
    }
   ],
   "source": [
    "#4\n",
    "print(f'mean of DMDW marks is:\\t{float(data_reader['DMDW_MARKS'].mean())}')\n"
   ]
  },
  {
   "cell_type": "code",
   "execution_count": 26,
   "metadata": {},
   "outputs": [
    {
     "data": {
      "text/plain": [
       "0     17500\n",
       "1     15000\n",
       "2     22500\n",
       "3     17500\n",
       "4     17500\n",
       "5     17500\n",
       "6     20000\n",
       "7     15000\n",
       "8     20000\n",
       "9     20000\n",
       "10    20000\n",
       "11    15000\n",
       "12    15000\n",
       "13    15000\n",
       "14    17500\n",
       "15    17500\n",
       "16    20000\n",
       "17    15000\n",
       "18    22500\n",
       "19    17500\n",
       "Name: salary, dtype: int64"
      ]
     },
     "execution_count": 26,
     "metadata": {},
     "output_type": "execute_result"
    }
   ],
   "source": [
    "#5\n",
    "import random as rn\n",
    "\n",
    "ages=[]\n",
    "salary=[]\n",
    "for i in range(0,20):\n",
    "    random_ages=rn.randint(18,30)\n",
    "    ages.append(random_ages)\n",
    "\n",
    "for i in range(0,20):\n",
    "    random=rn.randrange(15000,25000,2500)\n",
    "    salary.append(random)\n",
    "\n",
    "data_reader['age']=ages\n",
    "data_reader['age']\n",
    "\n",
    "data_reader['salary']=salary\n",
    "data_reader['salary']"
   ]
  },
  {
   "cell_type": "code",
   "execution_count": 27,
   "metadata": {},
   "outputs": [],
   "source": [
    "#6\n",
    "middle = len(data_reader)//2\n",
    "csv1=data_reader.iloc[:middle]\n",
    "csv2=data_reader.iloc[middle:]\n",
    "\n",
    "csv1.to_csv(\"csv1.css\")\n",
    "csv2.to_csv(\"csv2.csv\")"
   ]
  },
  {
   "cell_type": "code",
   "execution_count": 28,
   "metadata": {},
   "outputs": [
    {
     "name": "stdout",
     "output_type": "stream",
     "text": [
      "      Name  ROll_number  DMDW_MARKS  FLAT_MARKS  CN_MaRKS  age  salary\n",
      "2   TOKITO            3          27          28        29   21   22500\n",
      "18    UZUI           19          29          21        21   30   22500\n"
     ]
    }
   ],
   "source": [
    "#7\n",
    "new_data=data_reader[data_reader['salary']>20000]\n",
    "print(new_data)"
   ]
  },
  {
   "cell_type": "code",
   "execution_count": 29,
   "metadata": {},
   "outputs": [
    {
     "name": "stdout",
     "output_type": "stream",
     "text": [
      "          Name  ROll_number  DMDW_MARKS  FLAT_MARKS  CN_MaRKS  age  salary\n",
      "1     ABHILASH            2          24          23        25   21   15000\n",
      "7      INOSUKE            8          26          24        23   22   15000\n",
      "12      SANAME           13          25          25        21   23   15000\n",
      "11      OBONIA           12          21          15        29   19   15000\n",
      "13      GANIYA           14          22          22        21   22   15000\n",
      "17       KANAO           18          29          29        29   26   15000\n",
      "3      YORICHI            4          30          30        30   21   17500\n",
      "5    KOKOSHIBO            6          24          23        25   23   17500\n",
      "15        GIYU           16          26          26        28   24   17500\n",
      "14      GYOMEI           15          25          25        26   18   17500\n",
      "4        MUZAN            5          29          29        28   20   17500\n",
      "0   ADITYA DAS            1          25          25        24   30   17500\n",
      "19       AKAZA           20          25          25        27   30   17500\n",
      "10      NEZUKO           11          26          21        29   28   20000\n",
      "8      ZENITSU            9          27          27        23   26   20000\n",
      "6      TANJIRO            7          25          25        25   23   20000\n",
      "16     RANGOKU           17          19          30        30   24   20000\n",
      "9      MITSURI           10          21          22        30   25   20000\n",
      "2       TOKITO            3          27          28        29   21   22500\n",
      "18        UZUI           19          29          21        21   30   22500\n"
     ]
    }
   ],
   "source": [
    "#8\n",
    "sort=data_reader.sort_values(by='salary')\n",
    "print(sort)"
   ]
  }
 ],
 "metadata": {
  "kernelspec": {
   "display_name": "Python 3",
   "language": "python",
   "name": "python3"
  },
  "language_info": {
   "codemirror_mode": {
    "name": "ipython",
    "version": 3
   },
   "file_extension": ".py",
   "mimetype": "text/x-python",
   "name": "python",
   "nbconvert_exporter": "python",
   "pygments_lexer": "ipython3",
   "version": "3.12.4"
  }
 },
 "nbformat": 4,
 "nbformat_minor": 2
}
