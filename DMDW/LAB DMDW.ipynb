{
 "cells": [
  {
   "cell_type": "markdown",
   "metadata": {},
   "source": [
    "LAB 01"
   ]
  },
  {
   "cell_type": "markdown",
   "metadata": {},
   "source": [
    "1.WAP to print first record from dataset.\n",
    "2.WAP to display first attribute of the dataset.\n",
    "3.Print all attributes of the loaded dataset.\n",
    "4.calculate the average of a numeric column.\n",
    "5.Add a column called age and salary to the existing dataset.\n",
    "6.Split the csv file into two sub csv files.\n",
    "7.filter salary column using salary>20000 condition\n",
    "8.sort the data using salary column"
   ]
  },
  {
   "cell_type": "code",
   "execution_count": 28,
   "metadata": {},
   "outputs": [],
   "source": [
    "import pandas as pd\n",
    "import statistics as st"
   ]
  },
  {
   "cell_type": "code",
   "execution_count": 29,
   "metadata": {},
   "outputs": [
    {
     "data": {
      "text/html": [
       "<div>\n",
       "<style scoped>\n",
       "    .dataframe tbody tr th:only-of-type {\n",
       "        vertical-align: middle;\n",
       "    }\n",
       "\n",
       "    .dataframe tbody tr th {\n",
       "        vertical-align: top;\n",
       "    }\n",
       "\n",
       "    .dataframe thead th {\n",
       "        text-align: right;\n",
       "    }\n",
       "</style>\n",
       "<table border=\"1\" class=\"dataframe\">\n",
       "  <thead>\n",
       "    <tr style=\"text-align: right;\">\n",
       "      <th></th>\n",
       "      <th>Name</th>\n",
       "      <th>ROll_number</th>\n",
       "      <th>DMDW_MARKS</th>\n",
       "      <th>FLAT_MARKS</th>\n",
       "      <th>CN_MaRKS</th>\n",
       "    </tr>\n",
       "  </thead>\n",
       "  <tbody>\n",
       "    <tr>\n",
       "      <th>0</th>\n",
       "      <td>ADITYA DAS</td>\n",
       "      <td>1</td>\n",
       "      <td>25</td>\n",
       "      <td>25</td>\n",
       "      <td>24</td>\n",
       "    </tr>\n",
       "  </tbody>\n",
       "</table>\n",
       "</div>"
      ],
      "text/plain": [
       "         Name  ROll_number  DMDW_MARKS  FLAT_MARKS  CN_MaRKS\n",
       "0  ADITYA DAS            1          25          25        24"
      ]
     },
     "execution_count": 29,
     "metadata": {},
     "output_type": "execute_result"
    }
   ],
   "source": [
    "#1\n",
    "data_reader=pd.read_csv(\"student_details.csv\")\n",
    "data_reader.head(1)"
   ]
  },
  {
   "cell_type": "code",
   "execution_count": 30,
   "metadata": {},
   "outputs": [
    {
     "data": {
      "text/plain": [
       "'Name'"
      ]
     },
     "execution_count": 30,
     "metadata": {},
     "output_type": "execute_result"
    }
   ],
   "source": [
    "#2\n",
    "data_reader.columns[0]"
   ]
  },
  {
   "cell_type": "code",
   "execution_count": 31,
   "metadata": {},
   "outputs": [
    {
     "name": "stdout",
     "output_type": "stream",
     "text": [
      "Name\tROll_number\tDMDW_MARKS\tFLAT_MARKS\tCN_MaRKS\t"
     ]
    }
   ],
   "source": [
    "#3\n",
    "for i in data_reader.columns:\n",
    "    print(i,end=\"\\t\",sep=\",\")"
   ]
  },
  {
   "cell_type": "code",
   "execution_count": 32,
   "metadata": {},
   "outputs": [
    {
     "name": "stdout",
     "output_type": "stream",
     "text": [
      "mean of DMDW marks is:\t25.25\n"
     ]
    }
   ],
   "source": [
    "#4\n",
    "print(f'mean of DMDW marks is:\\t{float(data_reader['DMDW_MARKS'].mean())}')\n"
   ]
  },
  {
   "cell_type": "code",
   "execution_count": 35,
   "metadata": {},
   "outputs": [
    {
     "data": {
      "text/plain": [
       "0     20\n",
       "1     19\n",
       "2     28\n",
       "3     24\n",
       "4     21\n",
       "5     24\n",
       "6     24\n",
       "7     25\n",
       "8     30\n",
       "9     21\n",
       "10    23\n",
       "11    27\n",
       "12    30\n",
       "13    28\n",
       "14    23\n",
       "15    20\n",
       "16    22\n",
       "17    30\n",
       "18    22\n",
       "19    21\n",
       "Name: age, dtype: int64"
      ]
     },
     "execution_count": 35,
     "metadata": {},
     "output_type": "execute_result"
    }
   ],
   "source": [
    "#5\n",
    "import random as rn\n",
    "\n",
    "ages=[]\n",
    "for i in range(0,20):\n",
    "    random_ages=rn.randint(18,30)\n",
    "    ages.append(random_ages)\n",
    "\n",
    "data_reader['age']=ages\n",
    "data_reader['age']"
   ]
  },
  {
   "cell_type": "code",
   "execution_count": 34,
   "metadata": {},
   "outputs": [],
   "source": [
    "#6\n",
    "middle = len(data_reader)//2\n",
    "csv1=data_reader.iloc[:middle]\n",
    "csv2=data_reader.iloc[middle:]\n",
    "\n",
    "csv1.to_csv(\"csv1.css\")\n",
    "csv2.to_csv(\"csv2.csv\")"
   ]
  }
 ],
 "metadata": {
  "kernelspec": {
   "display_name": "Python 3",
   "language": "python",
   "name": "python3"
  },
  "language_info": {
   "codemirror_mode": {
    "name": "ipython",
    "version": 3
   },
   "file_extension": ".py",
   "mimetype": "text/x-python",
   "name": "python",
   "nbconvert_exporter": "python",
   "pygments_lexer": "ipython3",
   "version": "3.12.4"
  }
 },
 "nbformat": 4,
 "nbformat_minor": 2
}
