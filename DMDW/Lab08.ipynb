{
 "cells": [
  {
   "cell_type": "markdown",
   "metadata": {},
   "source": [
    "Q)Find the frequent items from the given dataset.\n",
    "Tid:-1,2,3,4,5\n",
    "\n",
    "Items:{milk,butter,bread},{butter,bread},{milk,bread},{milk,butter},{milk,coke}\n",
    "\n",
    "Apply FP-growth algorithm.Find association rules with minimu support=3 and confidence=68%"
   ]
  }
 ],
 "metadata": {
  "language_info": {
   "name": "python"
  }
 },
 "nbformat": 4,
 "nbformat_minor": 2
}
