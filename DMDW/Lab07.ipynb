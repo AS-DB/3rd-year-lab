{
 "cells": [
  {
   "cell_type": "markdown",
   "metadata": {},
   "source": [
    "Assignment 7\n",
    "\n",
    "Q1)Find the covarience and correlation between hours and score.\n",
    "\n",
    "Hours(x)    Score(Y)\n",
    "  3           70\n",
    "  5           80\n",
    "  2           60\n",
    "  7           90\n",
    "  4           75"
   ]
  },
  {
   "cell_type": "code",
   "execution_count": 46,
   "metadata": {},
   "outputs": [
    {
     "name": "stdout",
     "output_type": "stream",
     "text": [
      "Covarience of Hour and Score is: 17.0\n",
      "Correlation of Hour and Score is: 0.988\n"
     ]
    }
   ],
   "source": [
    "Hours=[3,5,2,7,4]\n",
    "Score=[70,80,60,90,75]\n",
    "#Covarience\n",
    "mean_hour=sum(Hours)/len(Hours)\n",
    "mean_Score=sum(Score)/len(Score)\n",
    "\n",
    "a=[]\n",
    "for i in range(len(Hours)):\n",
    "    t=(Hours[i]-mean_hour)*(Score[i]-mean_Score)\n",
    "    a.append(round(t,2))\n",
    "\n",
    "covarience=sum(a)/len(Score)\n",
    "print(f\"Covarience of Hour and Score is: {covarience}\")\n",
    "\n",
    "#Correlation\n",
    "c=[];d=[]\n",
    "for i in range(len(Hours)):\n",
    "    c1=(Hours[i]-mean_hour)**2\n",
    "    c.append(c1)\n",
    "std_hour=(sum(c)/len(Hours))**(1/2)\n",
    "\n",
    "\n",
    "for i in range(len(Score)):\n",
    "    c1=(Score[i]-mean_Score)**2\n",
    "    d.append(c1)\n",
    "std_Score=(sum(d)/len(Score))**0.5\n",
    "\n",
    "corelation=covarience/(std_Score*std_hour)\n",
    "print(f\"Correlation of Hour and Score is: {corelation:.3}\")"
   ]
  },
  {
   "cell_type": "markdown",
   "metadata": {},
   "source": [
    "Find the frequent items from the given dataset.\n",
    "TID:-1,2,3,4,5\n",
    "Items:{milk,butter,bread},{butter,bread},{milk,bread},{milk,butter},{milk,coke}\n",
    "\n",
    "Minimum support threshold is 2"
   ]
  },
  {
   "cell_type": "code",
   "execution_count": 3,
   "metadata": {},
   "outputs": [
    {
     "name": "stdout",
     "output_type": "stream",
     "text": [
      "Frequent 1-itemsets (L1):\n",
      "{'butter'}: 0.6\n",
      "{'bread'}: 0.6\n",
      "{'milk'}: 0.8\n",
      "\n",
      "Frequent 2-itemsets (L2):\n",
      "{'milk', 'butter'}: 0.4\n",
      "{'butter', 'bread'}: 0.4\n",
      "{'milk', 'bread'}: 0.4\n",
      "\n",
      "Frequent 3-itemsets (L3):\n",
      "\n",
      "Association Rules:\n",
      "{'milk'} → {'butter'} | Support: 0.4 | Confidence: 0.5\n",
      "{'butter'} → {'milk'} | Support: 0.4 | Confidence: 0.6666666666666667\n",
      "{'butter'} → {'bread'} | Support: 0.4 | Confidence: 0.6666666666666667\n",
      "{'bread'} → {'butter'} | Support: 0.4 | Confidence: 0.6666666666666667\n",
      "{'milk'} → {'bread'} | Support: 0.4 | Confidence: 0.5\n",
      "{'bread'} → {'milk'} | Support: 0.4 | Confidence: 0.6666666666666667\n"
     ]
    }
   ],
   "source": [
    "from itertools import combinations\n",
    "\n",
    "def calculate_support(itemset, transactions):\n",
    "    count = sum(1 for transaction in transactions if itemset.issubset(transaction))\n",
    "    return count / len(transactions)\n",
    "\n",
    "def generate_candidates(itemsets, length):\n",
    "    return set([i.union(j) for i in itemsets for j in itemsets if len(i.union(j)) == length])\n",
    "\n",
    "def prune_itemsets(candidates, transactions, min_support):\n",
    "    pruned_itemsets = {}\n",
    "    for itemset in candidates:\n",
    "        support = calculate_support(itemset, transactions)\n",
    "        if support >= min_support:\n",
    "            pruned_itemsets[frozenset(itemset)] = support\n",
    "    return pruned_itemsets\n",
    "\n",
    "def generate_association_rules(frequent_itemsets, transactions):\n",
    "    rules = []\n",
    "    for itemset, support in frequent_itemsets.items():\n",
    "        for i in range(1, len(itemset)):\n",
    "            for subset in combinations(itemset, i):\n",
    "                antecedent = frozenset(subset)\n",
    "                consequent = itemset.difference(antecedent)\n",
    "                confidence = support / calculate_support(antecedent, transactions)\n",
    "                rules.append((antecedent, consequent, support, confidence))\n",
    "    return rules\n",
    "\n",
    "transactions = [\n",
    "    {'milk', 'butter', 'bread'},\n",
    "    {'butter', 'bread'},\n",
    "    {'milk', 'bread'},\n",
    "    {'milk', 'butter'},\n",
    "    {'milk', 'coke'}\n",
    "]\n",
    "\n",
    "min_support = 2 / len(transactions)  \n",
    "\n",
    "C1 = {frozenset([item]) for transaction in transactions for item in transaction}\n",
    "L1 = prune_itemsets(C1, transactions, min_support)\n",
    "\n",
    "C2 = generate_candidates(L1, 2)\n",
    "L2 = prune_itemsets(C2, transactions, min_support)\n",
    "\n",
    "C3 = generate_candidates(L2, 3)\n",
    "L3 = prune_itemsets(C3, transactions, min_support)\n",
    "\n",
    "frequent_itemsets = {**L1, **L2, **L3}\n",
    "\n",
    "rules = generate_association_rules(frequent_itemsets, transactions)\n",
    "\n",
    "print(\"Frequent 1-itemsets (L1):\")\n",
    "for itemset, support in L1.items():\n",
    "    print(f\"{set(itemset)}: {support}\")\n",
    "\n",
    "print(\"\\nFrequent 2-itemsets (L2):\")\n",
    "for itemset, support in L2.items():\n",
    "    print(f\"{set(itemset)}: {support}\")\n",
    "\n",
    "print(\"\\nFrequent 3-itemsets (L3):\")\n",
    "for itemset, support in L3.items():\n",
    "    print(f\"{set(itemset)}: {support}\")\n",
    "\n",
    "print(\"\\nAssociation Rules:\")\n",
    "for antecedent, consequent, support, confidence in rules:\n",
    "    print(f\"{set(antecedent)} → {set(consequent)} | Support: {support} | Confidence: {confidence}\")"
   ]
  }
 ],
 "metadata": {
  "kernelspec": {
   "display_name": "Python 3",
   "language": "python",
   "name": "python3"
  },
  "language_info": {
   "codemirror_mode": {
    "name": "ipython",
    "version": 3
   },
   "file_extension": ".py",
   "mimetype": "text/x-python",
   "name": "python",
   "nbconvert_exporter": "python",
   "pygments_lexer": "ipython3",
   "version": "3.12.5"
  }
 },
 "nbformat": 4,
 "nbformat_minor": 2
}
