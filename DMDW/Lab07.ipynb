{
 "cells": [
  {
   "cell_type": "markdown",
   "metadata": {},
   "source": [
    "Assignment 7\n",
    "\n",
    "Q1)Find the covarience and correlation between hours and score.\n",
    "\n",
    "Hours(x)    Score(Y)\n",
    "  3           70\n",
    "  5           80\n",
    "  2           60\n",
    "  7           90\n",
    "  4           75"
   ]
  },
  {
   "cell_type": "code",
   "execution_count": 46,
   "metadata": {},
   "outputs": [
    {
     "name": "stdout",
     "output_type": "stream",
     "text": [
      "Covarience of Hour and Score is: 17.0\n",
      "Correlation of Hour and Score is: 0.988\n"
     ]
    }
   ],
   "source": [
    "Hours=[3,5,2,7,4]\n",
    "Score=[70,80,60,90,75]\n",
    "#Covarience\n",
    "mean_hour=sum(Hours)/len(Hours)\n",
    "mean_Score=sum(Score)/len(Score)\n",
    "\n",
    "a=[]\n",
    "for i in range(len(Hours)):\n",
    "    t=(Hours[i]-mean_hour)*(Score[i]-mean_Score)\n",
    "    a.append(round(t,2))\n",
    "\n",
    "covarience=sum(a)/len(Score)\n",
    "print(f\"Covarience of Hour and Score is: {covarience}\")\n",
    "\n",
    "#Correlation\n",
    "c=[];d=[]\n",
    "for i in range(len(Hours)):\n",
    "    c1=(Hours[i]-mean_hour)**2\n",
    "    c.append(c1)\n",
    "std_hour=(sum(c)/len(Hours))**(1/2)\n",
    "\n",
    "\n",
    "for i in range(len(Score)):\n",
    "    c1=(Score[i]-mean_Score)**2\n",
    "    d.append(c1)\n",
    "std_Score=(sum(d)/len(Score))**0.5\n",
    "\n",
    "corelation=covarience/(std_Score*std_hour)\n",
    "print(f\"Correlation of Hour and Score is: {corelation:.3}\")"
   ]
  },
  {
   "cell_type": "markdown",
   "metadata": {},
   "source": [
    "Find the frequent items from the given dataset.\n",
    "TID:-1,2,3,4,5\n",
    "Items:{milk,butter,bread},{butter,bread},{milk,bread},{milk,butter},{milk,coke}\n",
    "\n",
    "Minimum support threshold is 2"
   ]
  },
  {
   "cell_type": "code",
   "execution_count": 48,
   "metadata": {},
   "outputs": [
    {
     "name": "stdout",
     "output_type": "stream",
     "text": [
      "Itemset: {'butter'}, Count: 3, Support: 0.60\n",
      "Itemset: {'milk'}, Count: 4, Support: 0.80\n",
      "Itemset: {'bread'}, Count: 3, Support: 0.60\n",
      "Itemset: {'coke'}, Count: 1, Support: 0.20\n",
      "Itemset: {'milk', 'bread'}, Count: 2, Support: 0.40\n",
      "Itemset: {'butter', 'bread'}, Count: 2, Support: 0.40\n",
      "Itemset: {'butter', 'milk'}, Count: 2, Support: 0.40\n",
      "Itemset: {'butter', 'milk', 'bread'}, Count: 1, Support: 0.20\n"
     ]
    }
   ],
   "source": [
    "#code copied from chatgpt\n",
    "\n",
    "from itertools import combinations\n",
    "from collections import defaultdict\n",
    "\n",
    "dataset = [\n",
    "    {'milk', 'butter', 'bread'},\n",
    "    {'butter', 'bread'},\n",
    "    {'milk', 'bread'},\n",
    "    {'milk', 'butter'},\n",
    "    {'milk', 'coke'}\n",
    "]\n",
    "\n",
    "def get_frequent_itemsets(dataset, min_support):\n",
    "    def count_itemsets(itemsets):\n",
    "        counts = defaultdict(int)\n",
    "        for transaction in dataset:\n",
    "            for itemset in itemsets:\n",
    "                if itemset.issubset(transaction):\n",
    "                    counts[itemset] += 1\n",
    "        return counts\n",
    "\n",
    "    def generate_candidates(itemsets, length):\n",
    "        candidates = set()\n",
    "        itemsets_list = list(itemsets)\n",
    "        for i in range(len(itemsets_list)):\n",
    "            for j in range(i + 1, len(itemsets_list)):\n",
    "                union_set = itemsets_list[i].union(itemsets_list[j])\n",
    "                if len(union_set) == length:\n",
    "                    candidates.add(union_set)\n",
    "        return candidates\n",
    "\n",
    "    \n",
    "    itemsets = set(frozenset([item]) for transaction in dataset for item in transaction)\n",
    "    frequent_itemsets = {}\n",
    "    k = 1\n",
    "\n",
    "    while itemsets:\n",
    "        counts = count_itemsets(itemsets)\n",
    "        itemsets = set(itemset for itemset, count in counts.items() if count / len(dataset) >= min_support)\n",
    "        frequent_itemsets.update(counts)\n",
    "        itemsets = generate_candidates(itemsets, k + 1)\n",
    "        k += 1\n",
    "\n",
    "    return frequent_itemsets\n",
    "\n",
    "min_support = 2 / len(dataset)\n",
    "\n",
    "frequent_itemsets = get_frequent_itemsets(dataset, min_support)\n",
    "                                                                                                                                                                                                                                                                                                                 \n",
    "for itemset, count in frequent_itemsets.items():\n",
    "    support = count / len(dataset)\n",
    "    print(f\"Itemset: {set(itemset)}, Count: {count}, Support: {support:.2f}\")\n"
   ]
  }
 ],
 "metadata": {
  "kernelspec": {
   "display_name": "Python 3",
   "language": "python",
   "name": "python3"
  },
  "language_info": {
   "codemirror_mode": {
    "name": "ipython",
    "version": 3
   },
   "file_extension": ".py",
   "mimetype": "text/x-python",
   "name": "python",
   "nbconvert_exporter": "python",
   "pygments_lexer": "ipython3",
   "version": "3.10.0"
  }
 },
 "nbformat": 4,
 "nbformat_minor": 2
}
