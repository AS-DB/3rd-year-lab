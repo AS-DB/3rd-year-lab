{
 "cells": [
  {
   "cell_type": "markdown",
   "metadata": {},
   "source": [
    "Assignment -3\n",
    "\n",
    "1.Find the proximity measure for the following nominal attribute.\n",
    "\n",
    "age=[20,18,25,17]\n",
    "grade=[A,B,C,A]"
   ]
  },
  {
   "cell_type": "markdown",
   "metadata": {},
   "source": [
    "AGE:-"
   ]
  },
  {
   "cell_type": "code",
   "execution_count": 47,
   "metadata": {},
   "outputs": [],
   "source": [
    "import pandas as pd\n",
    "file=pd.read_csv('LAB3.csv')\n",
    "file\n",
    "\n",
    "count=0\n",
    "for i in file.columns:\n",
    "    count=count+1\n",
    "\n",
    "for i in range(0,4):\n",
    "    for j in range(0,4):\n",
    "        pass"
   ]
  },
  {
   "cell_type": "code",
   "execution_count": 50,
   "metadata": {},
   "outputs": [
    {
     "name": "stdout",
     "output_type": "stream",
     "text": [
      " 1 2 3 4\n",
      "10.01.01.00.5\n",
      "21.00.01.01.0\n",
      "31.01.00.01.0\n",
      "40.51.01.00.0\n"
     ]
    }
   ],
   "source": [
    "#for nominal\n",
    "\n",
    "def match(n,m):\n",
    "    age=['20','18','25','17']\n",
    "    grade=['A','B','C','A']\n",
    "    \n",
    "    c=0\n",
    "    if(age[n]==age[m]):\n",
    "        c=c+1\n",
    "    \n",
    "    if(grade[n]==grade[m]):\n",
    "        c=c+1\n",
    "    return c\n",
    "#main\n",
    "\n",
    "print(\" 1 2 3 4\")\n",
    "\n",
    "for i in range(4):\n",
    "    print(i+1,end='')\n",
    "    for j in range(4):\n",
    "        print(((2-match(i,j))/2),end='')\n",
    "    print()"
   ]
  },
  {
   "cell_type": "code",
   "execution_count": null,
   "metadata": {},
   "outputs": [],
   "source": [
    "import pandas as pd\n",
    "file=pd.read_csv('LAB3.csv')\n",
    "print(file['age'][1])"
   ]
  },
  {
   "cell_type": "markdown",
   "metadata": {},
   "source": [
    "2.Find the proxximity measure for the following ordinal attribute.\n",
    "object id:1,2,3,4,5\n",
    "grade:fair,good,excellent,good"
   ]
  }
 ],
 "metadata": {
  "kernelspec": {
   "display_name": "base",
   "language": "python",
   "name": "python3"
  },
  "language_info": {
   "codemirror_mode": {
    "name": "ipython",
    "version": 3
   },
   "file_extension": ".py",
   "mimetype": "text/x-python",
   "name": "python",
   "nbconvert_exporter": "python",
   "pygments_lexer": "ipython3",
   "version": "3.11.3"
  }
 },
 "nbformat": 4,
 "nbformat_minor": 2
}
