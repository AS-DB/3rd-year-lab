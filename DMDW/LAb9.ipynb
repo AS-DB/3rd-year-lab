{
 "cells": [
  {
   "cell_type": "code",
   "execution_count": null,
   "metadata": {},
   "outputs": [],
   "source": [
    "Find the frequent, maximal and closed pattern from the given dataset with minimun support 2.\n",
    "Tid:1,2,3,4,5\n",
    "Items:ABCD,ABCD,AB,ACD,ABD"
   ]
  },
  {
   "cell_type": "code",
   "execution_count": null,
   "metadata": {},
   "outputs": [],
   "source": [
    "from mlxtend.preprocessing import TransactionEncoder\n",
    "from mlxtend.frequent_patterns import apriori, fpmax, fpgrowth\n",
    "import pandas as pd\n",
    "dataset = [\n",
    "    ['A', 'B', 'C', 'D'],\n",
    "    ['A', 'B', 'C', 'D'],\n",
    "    ['A', 'B'],\n",
    "    ['A', 'C', 'D'],\n",
    "    ['A', 'B', 'D']\n",
    "]\n",
    "\n",
    "te = TransactionEncoder()\n",
    "te_ary = te.fit(dataset).transform(dataset)\n",
    "df = pd.DataFrame(te_ary, columns=te.columns_)\n",
    "\n",
    "frequent_itemsets = apriori(df, min_support=2/len(dataset), use_colnames=True)\n",
    "print(\"Frequent Itemsets:\")\n",
    "print(frequent_itemsets)\n",
    "\n",
    "maximal_itemsets = fpmax(df, min_support=2/len(dataset), use_colnames=True)\n",
    "print(\"\\nMaximal Itemsets:\")\n",
    "print(maximal_itemsets)\n",
    "\n",
    "closed_itemsets = fpgrowth(df, min_support=2/len(dataset), use_colnames=True)\n",
    "print(\"\\nClosed Itemsets:\")\n",
    "print(closed_itemsets)"
   ]
  }
 ],
 "metadata": {
  "language_info": {
   "name": "python"
  }
 },
 "nbformat": 4,
 "nbformat_minor": 2
}
